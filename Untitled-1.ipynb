{
 "cells": [
  {
   "cell_type": "code",
   "execution_count": 259,
   "id": "2d6385e9",
   "metadata": {},
   "outputs": [],
   "source": [
    "import pandas as pd\n",
    "import numpy as np"
   ]
  },
  {
   "cell_type": "code",
   "execution_count": 260,
   "id": "b0f25279",
   "metadata": {},
   "outputs": [
    {
     "name": "stderr",
     "output_type": "stream",
     "text": [
      "C:\\Users\\User\\AppData\\Local\\Temp\\ipykernel_8268\\1569829343.py:2: DtypeWarning: Columns (9) have mixed types. Specify dtype option on import or set low_memory=False.\n",
      "  events_results = pd.read_csv(r\"C:\\Users\\User\\Documents\\Residência em Dados - Instituto ECOA PUCRIO\\Athlete Event Result.csv\") # Leitura do dataset de resultados por atleta\n"
     ]
    }
   ],
   "source": [
    "bio = pd.read_csv(r'C:\\Users\\User\\Documents\\Residência em Dados - Instituto ECOA PUCRIO\\Athlete Bio.csv') # Leitura utilizando pandas do dataset das características de cada atleta\n",
    "events_results = pd.read_csv(r\"C:\\Users\\User\\Documents\\Residência em Dados - Instituto ECOA PUCRIO\\Athlete Event Result.csv\") # Leitura do dataset de resultados por atleta"
   ]
  },
  {
   "cell_type": "code",
   "execution_count": 261,
   "id": "edfe3c3c",
   "metadata": {},
   "outputs": [
    {
     "data": {
      "text/html": [
       "<div>\n",
       "<style scoped>\n",
       "    .dataframe tbody tr th:only-of-type {\n",
       "        vertical-align: middle;\n",
       "    }\n",
       "\n",
       "    .dataframe tbody tr th {\n",
       "        vertical-align: top;\n",
       "    }\n",
       "\n",
       "    .dataframe thead th {\n",
       "        text-align: right;\n",
       "    }\n",
       "</style>\n",
       "<table border=\"1\" class=\"dataframe\">\n",
       "  <thead>\n",
       "    <tr style=\"text-align: right;\">\n",
       "      <th></th>\n",
       "      <th>athlete_id</th>\n",
       "      <th>name</th>\n",
       "      <th>sex</th>\n",
       "      <th>birth_date</th>\n",
       "      <th>birth_year</th>\n",
       "      <th>height</th>\n",
       "      <th>weight</th>\n",
       "      <th>country</th>\n",
       "      <th>country_noc</th>\n",
       "      <th>description</th>\n",
       "      <th>special_notes</th>\n",
       "    </tr>\n",
       "  </thead>\n",
       "  <tbody>\n",
       "    <tr>\n",
       "      <th>0</th>\n",
       "      <td>2303707</td>\n",
       "      <td>A. Sansores</td>\n",
       "      <td>Male</td>\n",
       "      <td>NaN</td>\n",
       "      <td>NaN</td>\n",
       "      <td>NaN</td>\n",
       "      <td>NaN</td>\n",
       "      <td>Cuba</td>\n",
       "      <td>CUB</td>\n",
       "      <td>NaN</td>\n",
       "      <td>NaN</td>\n",
       "    </tr>\n",
       "    <tr>\n",
       "      <th>1</th>\n",
       "      <td>2303703</td>\n",
       "      <td>Álvaro Ledón</td>\n",
       "      <td>Male</td>\n",
       "      <td>NaN</td>\n",
       "      <td>NaN</td>\n",
       "      <td>NaN</td>\n",
       "      <td>NaN</td>\n",
       "      <td>Cuba</td>\n",
       "      <td>CUB</td>\n",
       "      <td>NaN</td>\n",
       "      <td>NaN</td>\n",
       "    </tr>\n",
       "    <tr>\n",
       "      <th>2</th>\n",
       "      <td>921722</td>\n",
       "      <td>Abelardo Cuevas</td>\n",
       "      <td>Male</td>\n",
       "      <td>NaN</td>\n",
       "      <td>NaN</td>\n",
       "      <td>NaN</td>\n",
       "      <td>NaN</td>\n",
       "      <td>Cuba</td>\n",
       "      <td>CUB</td>\n",
       "      <td>Abelardo Cuevas was a Cuban oboist, hornist, s...</td>\n",
       "      <td>NaN</td>\n",
       "    </tr>\n",
       "    <tr>\n",
       "      <th>3</th>\n",
       "      <td>2303702</td>\n",
       "      <td>V. Fernández</td>\n",
       "      <td>Male</td>\n",
       "      <td>NaN</td>\n",
       "      <td>NaN</td>\n",
       "      <td>NaN</td>\n",
       "      <td>NaN</td>\n",
       "      <td>Cuba</td>\n",
       "      <td>CUB</td>\n",
       "      <td>NaN</td>\n",
       "      <td>NaN</td>\n",
       "    </tr>\n",
       "    <tr>\n",
       "      <th>4</th>\n",
       "      <td>2303738</td>\n",
       "      <td>A. F. Ruiz</td>\n",
       "      <td>Male</td>\n",
       "      <td>NaN</td>\n",
       "      <td>NaN</td>\n",
       "      <td>NaN</td>\n",
       "      <td>NaN</td>\n",
       "      <td>Cuba</td>\n",
       "      <td>CUB</td>\n",
       "      <td>NaN</td>\n",
       "      <td>NaN</td>\n",
       "    </tr>\n",
       "  </tbody>\n",
       "</table>\n",
       "</div>"
      ],
      "text/plain": [
       "   athlete_id             name   sex birth_date  birth_year  height  weight  \\\n",
       "0     2303707      A. Sansores  Male        NaN         NaN     NaN     NaN   \n",
       "1     2303703     Álvaro Ledón  Male        NaN         NaN     NaN     NaN   \n",
       "2      921722  Abelardo Cuevas  Male        NaN         NaN     NaN     NaN   \n",
       "3     2303702     V. Fernández  Male        NaN         NaN     NaN     NaN   \n",
       "4     2303738       A. F. Ruiz  Male        NaN         NaN     NaN     NaN   \n",
       "\n",
       "  country country_noc                                        description  \\\n",
       "0    Cuba         CUB                                                NaN   \n",
       "1    Cuba         CUB                                                NaN   \n",
       "2    Cuba         CUB  Abelardo Cuevas was a Cuban oboist, hornist, s...   \n",
       "3    Cuba         CUB                                                NaN   \n",
       "4    Cuba         CUB                                                NaN   \n",
       "\n",
       "  special_notes  \n",
       "0           NaN  \n",
       "1           NaN  \n",
       "2           NaN  \n",
       "3           NaN  \n",
       "4           NaN  "
      ]
     },
     "execution_count": 261,
     "metadata": {},
     "output_type": "execute_result"
    }
   ],
   "source": [
    "bio.head() # O comando .head() imprime o \"cabeçalho\" do dataset para mostrar se foi lido corretamente"
   ]
  },
  {
   "cell_type": "code",
   "execution_count": 262,
   "id": "a28ab76c",
   "metadata": {},
   "outputs": [
    {
     "data": {
      "text/html": [
       "<div>\n",
       "<style scoped>\n",
       "    .dataframe tbody tr th:only-of-type {\n",
       "        vertical-align: middle;\n",
       "    }\n",
       "\n",
       "    .dataframe tbody tr th {\n",
       "        vertical-align: top;\n",
       "    }\n",
       "\n",
       "    .dataframe thead th {\n",
       "        text-align: right;\n",
       "    }\n",
       "</style>\n",
       "<table border=\"1\" class=\"dataframe\">\n",
       "  <thead>\n",
       "    <tr style=\"text-align: right;\">\n",
       "      <th></th>\n",
       "      <th>edition</th>\n",
       "      <th>edition_id</th>\n",
       "      <th>country_noc</th>\n",
       "      <th>sport</th>\n",
       "      <th>event</th>\n",
       "      <th>result_id</th>\n",
       "      <th>athlete</th>\n",
       "      <th>athlete_id</th>\n",
       "      <th>position</th>\n",
       "      <th>medal</th>\n",
       "      <th>is_team_sport</th>\n",
       "    </tr>\n",
       "  </thead>\n",
       "  <tbody>\n",
       "    <tr>\n",
       "      <th>0</th>\n",
       "      <td>1928 Winter Olympics</td>\n",
       "      <td>30</td>\n",
       "      <td>SUI</td>\n",
       "      <td>Skeleton</td>\n",
       "      <td>Skeleton, Men</td>\n",
       "      <td>1</td>\n",
       "      <td>Willy von Eschen</td>\n",
       "      <td>98710</td>\n",
       "      <td>Did not finish</td>\n",
       "      <td>NaN</td>\n",
       "      <td>False</td>\n",
       "    </tr>\n",
       "    <tr>\n",
       "      <th>1</th>\n",
       "      <td>1928 Winter Olympics</td>\n",
       "      <td>30</td>\n",
       "      <td>FRA</td>\n",
       "      <td>Skeleton</td>\n",
       "      <td>Skeleton, Men</td>\n",
       "      <td>1</td>\n",
       "      <td>Jean, Comte de Beaumont</td>\n",
       "      <td>42118</td>\n",
       "      <td>Did not start</td>\n",
       "      <td>NaN</td>\n",
       "      <td>False</td>\n",
       "    </tr>\n",
       "    <tr>\n",
       "      <th>2</th>\n",
       "      <td>1928 Winter Olympics</td>\n",
       "      <td>30</td>\n",
       "      <td>FRA</td>\n",
       "      <td>Skeleton</td>\n",
       "      <td>Skeleton, Men</td>\n",
       "      <td>1</td>\n",
       "      <td>Pierre Dormeuil</td>\n",
       "      <td>85267</td>\n",
       "      <td>Did not finish</td>\n",
       "      <td>NaN</td>\n",
       "      <td>False</td>\n",
       "    </tr>\n",
       "    <tr>\n",
       "      <th>3</th>\n",
       "      <td>1928 Winter Olympics</td>\n",
       "      <td>30</td>\n",
       "      <td>GBR</td>\n",
       "      <td>Skeleton</td>\n",
       "      <td>Skeleton, Men</td>\n",
       "      <td>1</td>\n",
       "      <td>Lord Brabazon of Tara</td>\n",
       "      <td>1202561</td>\n",
       "      <td>Did not start</td>\n",
       "      <td>NaN</td>\n",
       "      <td>False</td>\n",
       "    </tr>\n",
       "    <tr>\n",
       "      <th>4</th>\n",
       "      <td>1928 Winter Olympics</td>\n",
       "      <td>30</td>\n",
       "      <td>SUI</td>\n",
       "      <td>Skeleton</td>\n",
       "      <td>Skeleton, Men</td>\n",
       "      <td>1</td>\n",
       "      <td>Alexander Berner</td>\n",
       "      <td>84063</td>\n",
       "      <td>5</td>\n",
       "      <td>NaN</td>\n",
       "      <td>False</td>\n",
       "    </tr>\n",
       "  </tbody>\n",
       "</table>\n",
       "</div>"
      ],
      "text/plain": [
       "                edition  edition_id country_noc     sport          event  \\\n",
       "0  1928 Winter Olympics          30         SUI  Skeleton  Skeleton, Men   \n",
       "1  1928 Winter Olympics          30         FRA  Skeleton  Skeleton, Men   \n",
       "2  1928 Winter Olympics          30         FRA  Skeleton  Skeleton, Men   \n",
       "3  1928 Winter Olympics          30         GBR  Skeleton  Skeleton, Men   \n",
       "4  1928 Winter Olympics          30         SUI  Skeleton  Skeleton, Men   \n",
       "\n",
       "   result_id                  athlete  athlete_id        position medal  \\\n",
       "0          1         Willy von Eschen       98710  Did not finish   NaN   \n",
       "1          1  Jean, Comte de Beaumont       42118   Did not start   NaN   \n",
       "2          1          Pierre Dormeuil       85267  Did not finish   NaN   \n",
       "3          1    Lord Brabazon of Tara     1202561   Did not start   NaN   \n",
       "4          1         Alexander Berner       84063               5   NaN   \n",
       "\n",
       "   is_team_sport  \n",
       "0          False  \n",
       "1          False  \n",
       "2          False  \n",
       "3          False  \n",
       "4          False  "
      ]
     },
     "execution_count": 262,
     "metadata": {},
     "output_type": "execute_result"
    }
   ],
   "source": [
    "events_results.head()"
   ]
  },
  {
   "cell_type": "markdown",
   "id": "6bf2ccd5",
   "metadata": {},
   "source": [
    "## Excluindo colunas que não nos interessa\n",
    "     - O comando .drop() exige o argumento columns=['coluna1', 'coluna2', 'etc'] especificando quais colunas queremos remover\n",
    "     - O comando inplace= True faz o programa alterar no dataset original"
   ]
  },
  {
   "cell_type": "code",
   "execution_count": 263,
   "id": "2a68f86d",
   "metadata": {},
   "outputs": [],
   "source": [
    "bio.drop(columns=['description','birth_date', 'special_notes'], inplace= True) # Excluímos colunas que não nos interessam no dataset dos atletas e suas caracteríticas com o comando .drop()"
   ]
  },
  {
   "cell_type": "code",
   "execution_count": 264,
   "id": "9e3193fd",
   "metadata": {},
   "outputs": [],
   "source": [
    "events_results.drop(columns=['result_id', 'event', 'is_team_sport'], inplace= True) # Excluímos colunas que não nos interessam no dataset dos resultados"
   ]
  },
  {
   "cell_type": "markdown",
   "id": "cf47c9ee",
   "metadata": {},
   "source": [
    "## Contagem de valores nulos nos dois datasets\n",
    "     - comando *isnull()* conta as linhas em que não há valores\n",
    "     - comando *.sum()* faz a soma desse valores nulos(Como se contasse quantos valores são nulos na coluna em questão)"
   ]
  },
  {
   "cell_type": "code",
   "execution_count": 265,
   "id": "daaafbdf",
   "metadata": {},
   "outputs": [
    {
     "data": {
      "text/plain": [
       "athlete_id         0\n",
       "name               0\n",
       "sex                0\n",
       "birth_year      4167\n",
       "height         50749\n",
       "weight         51710\n",
       "country            0\n",
       "country_noc        0\n",
       "dtype: int64"
      ]
     },
     "execution_count": 265,
     "metadata": {},
     "output_type": "execute_result"
    }
   ],
   "source": [
    "bio.isnull().sum() # "
   ]
  },
  {
   "cell_type": "code",
   "execution_count": 266,
   "id": "befcf1da",
   "metadata": {},
   "outputs": [
    {
     "data": {
      "text/plain": [
       "edition             0\n",
       "edition_id          0\n",
       "country_noc         0\n",
       "sport               0\n",
       "athlete             0\n",
       "athlete_id          0\n",
       "position            0\n",
       "medal          272147\n",
       "dtype: int64"
      ]
     },
     "execution_count": 266,
     "metadata": {},
     "output_type": "execute_result"
    }
   ],
   "source": [
    "events_results.isnull().sum()"
   ]
  },
  {
   "cell_type": "markdown",
   "id": "b53c0da6",
   "metadata": {},
   "source": [
    "## Combinando os dois datasets\n",
    "     - O comando .merge() exige alguns argumentos para seu melhor funcionamento\n",
    "          - Digitamos entres os parênteses primeiro os N datasets que vamos trabalhar, com todos separados por vírgulas\n",
    "          - Segundo temos que definir quais colunas os datasets vão ter como base para então juntar todos eles, isso acontece pelo comando on= e a coluna em questão dever vir com aspas simples (Ex: 'coluna') e caso seja mais de uma coluna, estas devem vir dentro de colchetes (Ex: on=['coluna1', 'coluna2'])\n",
    "          - O último comando how= nos diz que tipo de join nosso programa deve realizar('inner', 'left', 'right')"
   ]
  },
  {
   "cell_type": "code",
   "execution_count": 267,
   "id": "cff49d62",
   "metadata": {},
   "outputs": [
    {
     "data": {
      "text/html": [
       "<div>\n",
       "<style scoped>\n",
       "    .dataframe tbody tr th:only-of-type {\n",
       "        vertical-align: middle;\n",
       "    }\n",
       "\n",
       "    .dataframe tbody tr th {\n",
       "        vertical-align: top;\n",
       "    }\n",
       "\n",
       "    .dataframe thead th {\n",
       "        text-align: right;\n",
       "    }\n",
       "</style>\n",
       "<table border=\"1\" class=\"dataframe\">\n",
       "  <thead>\n",
       "    <tr style=\"text-align: right;\">\n",
       "      <th></th>\n",
       "      <th>edition</th>\n",
       "      <th>edition_id</th>\n",
       "      <th>country_noc</th>\n",
       "      <th>sport</th>\n",
       "      <th>athlete</th>\n",
       "      <th>athlete_id</th>\n",
       "      <th>position</th>\n",
       "      <th>medal</th>\n",
       "      <th>name</th>\n",
       "      <th>sex</th>\n",
       "      <th>birth_year</th>\n",
       "      <th>height</th>\n",
       "      <th>weight</th>\n",
       "      <th>country</th>\n",
       "    </tr>\n",
       "  </thead>\n",
       "  <tbody>\n",
       "    <tr>\n",
       "      <th>0</th>\n",
       "      <td>1928 Winter Olympics</td>\n",
       "      <td>30</td>\n",
       "      <td>SUI</td>\n",
       "      <td>Skeleton</td>\n",
       "      <td>Willy von Eschen</td>\n",
       "      <td>98710</td>\n",
       "      <td>Did not finish</td>\n",
       "      <td>NaN</td>\n",
       "      <td>Willy von Eschen</td>\n",
       "      <td>Male</td>\n",
       "      <td>1902.0</td>\n",
       "      <td>NaN</td>\n",
       "      <td>NaN</td>\n",
       "      <td>Switzerland</td>\n",
       "    </tr>\n",
       "    <tr>\n",
       "      <th>1</th>\n",
       "      <td>1928 Winter Olympics</td>\n",
       "      <td>30</td>\n",
       "      <td>FRA</td>\n",
       "      <td>Skeleton</td>\n",
       "      <td>Jean, Comte de Beaumont</td>\n",
       "      <td>42118</td>\n",
       "      <td>Did not start</td>\n",
       "      <td>NaN</td>\n",
       "      <td>Jean, Comte de Beaumont</td>\n",
       "      <td>Male</td>\n",
       "      <td>1904.0</td>\n",
       "      <td>NaN</td>\n",
       "      <td>NaN</td>\n",
       "      <td>France</td>\n",
       "    </tr>\n",
       "    <tr>\n",
       "      <th>2</th>\n",
       "      <td>1928 Winter Olympics</td>\n",
       "      <td>30</td>\n",
       "      <td>FRA</td>\n",
       "      <td>Skeleton</td>\n",
       "      <td>Pierre Dormeuil</td>\n",
       "      <td>85267</td>\n",
       "      <td>Did not finish</td>\n",
       "      <td>NaN</td>\n",
       "      <td>Pierre Dormeuil</td>\n",
       "      <td>Male</td>\n",
       "      <td>1887.0</td>\n",
       "      <td>198.0</td>\n",
       "      <td>88.0</td>\n",
       "      <td>France</td>\n",
       "    </tr>\n",
       "    <tr>\n",
       "      <th>3</th>\n",
       "      <td>1928 Winter Olympics</td>\n",
       "      <td>30</td>\n",
       "      <td>GBR</td>\n",
       "      <td>Skeleton</td>\n",
       "      <td>Lord Brabazon of Tara</td>\n",
       "      <td>1202561</td>\n",
       "      <td>Did not start</td>\n",
       "      <td>NaN</td>\n",
       "      <td>Lord Brabazon of Tara</td>\n",
       "      <td>Male</td>\n",
       "      <td>1884.0</td>\n",
       "      <td>NaN</td>\n",
       "      <td>NaN</td>\n",
       "      <td>Great Britain</td>\n",
       "    </tr>\n",
       "    <tr>\n",
       "      <th>4</th>\n",
       "      <td>1928 Winter Olympics</td>\n",
       "      <td>30</td>\n",
       "      <td>SUI</td>\n",
       "      <td>Skeleton</td>\n",
       "      <td>Alexander Berner</td>\n",
       "      <td>84063</td>\n",
       "      <td>5</td>\n",
       "      <td>NaN</td>\n",
       "      <td>Alexander Berner</td>\n",
       "      <td>Male</td>\n",
       "      <td>1901.0</td>\n",
       "      <td>NaN</td>\n",
       "      <td>NaN</td>\n",
       "      <td>Switzerland</td>\n",
       "    </tr>\n",
       "  </tbody>\n",
       "</table>\n",
       "</div>"
      ],
      "text/plain": [
       "                edition  edition_id country_noc     sport  \\\n",
       "0  1928 Winter Olympics          30         SUI  Skeleton   \n",
       "1  1928 Winter Olympics          30         FRA  Skeleton   \n",
       "2  1928 Winter Olympics          30         FRA  Skeleton   \n",
       "3  1928 Winter Olympics          30         GBR  Skeleton   \n",
       "4  1928 Winter Olympics          30         SUI  Skeleton   \n",
       "\n",
       "                   athlete  athlete_id        position medal  \\\n",
       "0         Willy von Eschen       98710  Did not finish   NaN   \n",
       "1  Jean, Comte de Beaumont       42118   Did not start   NaN   \n",
       "2          Pierre Dormeuil       85267  Did not finish   NaN   \n",
       "3    Lord Brabazon of Tara     1202561   Did not start   NaN   \n",
       "4         Alexander Berner       84063               5   NaN   \n",
       "\n",
       "                      name   sex  birth_year  height  weight         country  \n",
       "0         Willy von Eschen  Male      1902.0     NaN     NaN     Switzerland  \n",
       "1  Jean, Comte de Beaumont  Male      1904.0     NaN     NaN          France  \n",
       "2          Pierre Dormeuil  Male      1887.0   198.0    88.0          France  \n",
       "3    Lord Brabazon of Tara  Male      1884.0     NaN     NaN   Great Britain  \n",
       "4         Alexander Berner  Male      1901.0     NaN     NaN     Switzerland  "
      ]
     },
     "execution_count": 267,
     "metadata": {},
     "output_type": "execute_result"
    }
   ],
   "source": [
    "combinação = pd.merge(events_results, bio, on=['athlete_id', 'country_noc'], how='inner')\n",
    "combinação.head()"
   ]
  },
  {
   "cell_type": "markdown",
   "id": "49638652",
   "metadata": {},
   "source": [
    "## Criamos a coluna Ano da Edição no dataset combinado extraindo da coluna 'edition'\n",
    "    - pd.to_numeric() converte os caracteres da coluna especificada(edition) em número, nesse caso acessamos a coluna edition em combinação['edition']\n",
    "    - o comando .str[:4] extrai os 4 primeiros caracateres, como cada linha em 'edition' começa com o ano conseguimos extrair os 4 primeiros dígitos que são o ano em que foi realizado a edição "
   ]
  },
  {
   "cell_type": "code",
   "execution_count": 268,
   "id": "2af26a37",
   "metadata": {},
   "outputs": [],
   "source": [
    "combinação['Ano da Edição'] = pd.to_numeric(combinação['edition'].str[:4], errors='coerce')"
   ]
  },
  {
   "cell_type": "markdown",
   "id": "cf4d3fcf",
   "metadata": {},
   "source": [
    "## Criamos e calculamos a idade do atleta na edição em que participou\n",
    "    - No trecho combinação['Idade'] =, nós criamos uma nova coluna no dataset determinada Idade\n",
    "    - No restante acessamos a coluna antes criada 'Ano da Edição' e subtraimos com a coluna 'birth_year', esta subtração vai acontecer para cada linha das colunas retornando o resultado na linha em que foi realizada a operação na coluna 'Idade'"
   ]
  },
  {
   "cell_type": "code",
   "execution_count": 269,
   "id": "858c8438",
   "metadata": {},
   "outputs": [],
   "source": [
    "combinação['Idade'] = combinação['Ano da Edição'] - combinação['birth_year']"
   ]
  },
  {
   "cell_type": "markdown",
   "id": "1ffc4994",
   "metadata": {},
   "source": [
    "## Vamos criar um novo dataset em que tenha apenas nossos países-alvo(França, Espanha e Japão)\n",
    "    - definimos uma variável paises no formato da coluna country_noc(apenas as siglas dos países)\n",
    "    - criamos um novo dataset combinação_filtrada\n",
    "    - a função .isin(paises) analisa se o dataset combinação['country_noc'] para filtrar apenas aqueles que especificamos na variável paises \n",
    "    - por fim a função .copy() diz ao programa que de fato estamos criando um novo dataset filtrado por esses países"
   ]
  },
  {
   "cell_type": "code",
   "execution_count": 270,
   "id": "0cc4262c",
   "metadata": {},
   "outputs": [],
   "source": [
    "paises = ['FRA', 'ESP', 'JPN']\n",
    "combinação_filtrada = combinação[combinação['country_noc'].isin(paises)].copy()"
   ]
  },
  {
   "cell_type": "code",
   "execution_count": 271,
   "id": "41393785",
   "metadata": {},
   "outputs": [
    {
     "data": {
      "text/plain": [
       "edition              0\n",
       "edition_id           0\n",
       "country_noc          0\n",
       "sport                0\n",
       "athlete              0\n",
       "athlete_id           0\n",
       "position             0\n",
       "medal            28729\n",
       "name                 0\n",
       "sex                  0\n",
       "birth_year        1871\n",
       "height           10291\n",
       "weight           10344\n",
       "country              0\n",
       "Ano da Edição        0\n",
       "Idade             1871\n",
       "dtype: int64"
      ]
     },
     "execution_count": 271,
     "metadata": {},
     "output_type": "execute_result"
    }
   ],
   "source": [
    "combinação_filtrada.isnull().sum()"
   ]
  },
  {
   "cell_type": "markdown",
   "id": "63936cf0",
   "metadata": {},
   "source": [
    "# Preenchendo alguns valores faltantes\n",
    "### Precisamos tomar cuidado, pois a média global poderia ocultar alguns dados, então temos de filtrar por esporte e gênero\n",
    "    - Criamos a coluna 'height' e com o comando .fillna() vamos preencher os seus valores faltantes\n",
    "    - .groupby(['sport', 'sex'])['height'] -> Agrupa por esporte e sexo e seleciona a coluna 'height'\n",
    "    - Já .tranform('mean') calcula a média dos valores para cada grupo que especificamos\n",
    "\n",
    "    ** Vemos que ainda há valores faltantes ao usar  combinação_filtrada.isna().sum(). Isso ocorre, pois há grupos que não tinham dados de peso e altura"
   ]
  },
  {
   "cell_type": "code",
   "execution_count": 272,
   "id": "0065c3e8",
   "metadata": {},
   "outputs": [],
   "source": [
    "combinação_filtrada['height'] = combinação_filtrada['height'].fillna(combinação_filtrada.groupby(['sport', 'sex'])['height'].transform('mean'))\n",
    "combinação_filtrada['weight'] = combinação_filtrada['weight'].fillna(combinação_filtrada.groupby(['sport', 'sex'])['weight'].transform('mean'))"
   ]
  },
  {
   "cell_type": "markdown",
   "id": "4c69b157",
   "metadata": {},
   "source": [
    "## Arredondando os valores das médias das colunas\n",
    "    - O comando .round() indica para quantas casas decimais queremos arredondar os valores, nesse caso para duas casas decimais"
   ]
  },
  {
   "cell_type": "code",
   "execution_count": 273,
   "id": "abdc6ce8",
   "metadata": {},
   "outputs": [],
   "source": [
    "combinação_filtrada['height'] = combinação_filtrada['height'].round(2)\n",
    "combinação_filtrada['weight'] = combinação_filtrada['weight'].round(2)\n"
   ]
  },
  {
   "cell_type": "code",
   "execution_count": 274,
   "id": "2bb7c411",
   "metadata": {},
   "outputs": [
    {
     "data": {
      "text/plain": [
       "edition              0\n",
       "edition_id           0\n",
       "country_noc          0\n",
       "sport                0\n",
       "athlete              0\n",
       "athlete_id           0\n",
       "position             0\n",
       "medal            28729\n",
       "name                 0\n",
       "sex                  0\n",
       "birth_year        1871\n",
       "height            1299\n",
       "weight            1299\n",
       "country              0\n",
       "Ano da Edição        0\n",
       "Idade             1871\n",
       "dtype: int64"
      ]
     },
     "execution_count": 274,
     "metadata": {},
     "output_type": "execute_result"
    }
   ],
   "source": [
    "combinação_filtrada.isna().sum()\n"
   ]
  },
  {
   "cell_type": "markdown",
   "id": "cf90207e",
   "metadata": {},
   "source": [
    "# Criamos um arquivo localmente no formato de CSV"
   ]
  },
  {
   "cell_type": "code",
   "execution_count": 275,
   "id": "92f697d2",
   "metadata": {},
   "outputs": [],
   "source": [
    "combinação_filtrada.to_csv('olympic_filtered_branch.csv', index= False)"
   ]
  }
 ],
 "metadata": {
  "kernelspec": {
   "display_name": "Python 3",
   "language": "python",
   "name": "python3"
  },
  "language_info": {
   "codemirror_mode": {
    "name": "ipython",
    "version": 3
   },
   "file_extension": ".py",
   "mimetype": "text/x-python",
   "name": "python",
   "nbconvert_exporter": "python",
   "pygments_lexer": "ipython3",
   "version": "3.12.4"
  }
 },
 "nbformat": 4,
 "nbformat_minor": 5
}
